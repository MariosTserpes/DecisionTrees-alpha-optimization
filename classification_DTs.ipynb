{
 "cells": [
  {
   "cell_type": "code",
   "execution_count": 1,
   "id": "imperial-peter",
   "metadata": {},
   "outputs": [],
   "source": [
    "import pandas as pd\n",
    "import numpy as np\n",
    "\n",
    "import seaborn as sns\n",
    "import matplotlib.pyplot as plt"
   ]
  },
  {
   "cell_type": "code",
   "execution_count": 2,
   "id": "dying-integration",
   "metadata": {},
   "outputs": [
    {
     "name": "stdout",
     "output_type": "stream",
     "text": [
      "   Unnamed: 0  Sales  CompPrice  Income  Advertising  Population  Price  \\\n",
      "0           1   9.50        138      73           11         276    120   \n",
      "1           2  11.22        111      48           16         260     83   \n",
      "2           3  10.06        113      35           10         269     80   \n",
      "3           4   7.40        117     100            4         466     97   \n",
      "\n",
      "  ShelveLoc  Age  Education Urban   US  \n",
      "0       Bad   42         17   Yes  Yes  \n",
      "1      Good   65         10   Yes  Yes  \n",
      "2    Medium   59         12   Yes  Yes  \n",
      "3    Medium   55         14   Yes  Yes  \n"
     ]
    }
   ],
   "source": [
    "carseats_df = pd.read_csv('Carseats.csv')\n",
    "print(carseats_df[:4])"
   ]
  },
  {
   "cell_type": "markdown",
   "id": "popular-disney",
   "metadata": {},
   "source": [
    "* Classification Trees, using Carseats Dataset\n",
    "\n",
    " In these\n",
    "data, Sales is a continuous variable, and so we begin by recoding it as a\n",
    "binary variable. We use the anonymous function to create a variable, called\n",
    "High, which takes on a value of Yes if the Sales variable exceeds 8, and\n",
    "takes on a value of No otherwise."
   ]
  },
  {
   "cell_type": "code",
   "execution_count": 3,
   "id": "collective-atlanta",
   "metadata": {},
   "outputs": [
    {
     "name": "stdout",
     "output_type": "stream",
     "text": [
      "   Unnamed: 0  Sales  CompPrice  Income  Advertising  Population  Price  Age  \\\n",
      "0           1   9.50        138      73           11         276    120   42   \n",
      "1           2  11.22        111      48           16         260     83   65   \n",
      "2           3  10.06        113      35           10         269     80   59   \n",
      "3           4   7.40        117     100            4         466     97   55   \n",
      "4           5   4.15        141      64            3         340    128   38   \n",
      "\n",
      "   Education  ShelveLoc_Good  ShelveLoc_Medium  Urban_Yes  US_Yes  \n",
      "0         17               0                 0          1       1  \n",
      "1         10               1                 0          1       1  \n",
      "2         12               0                 1          1       1  \n",
      "3         14               0                 1          1       1  \n",
      "4         13               0                 0          1       0  \n"
     ]
    }
   ],
   "source": [
    "carseats_df = pd.get_dummies(carseats_df, drop_first = True)\n",
    "print(carseats_df[:5])"
   ]
  },
  {
   "cell_type": "code",
   "execution_count": 4,
   "id": "varied-investing",
   "metadata": {},
   "outputs": [
    {
     "name": "stdout",
     "output_type": "stream",
     "text": [
      "   Unnamed: 0  Sales  CompPrice  Income  Advertising  Population  Price  Age  \\\n",
      "0           1   9.50        138      73           11         276    120   42   \n",
      "1           2  11.22        111      48           16         260     83   65   \n",
      "2           3  10.06        113      35           10         269     80   59   \n",
      "3           4   7.40        117     100            4         466     97   55   \n",
      "4           5   4.15        141      64            3         340    128   38   \n",
      "\n",
      "   Education  ShelveLoc_Good  ShelveLoc_Medium  Urban_Yes  US_Yes High  \n",
      "0         17               0                 0          1       1  Yes  \n",
      "1         10               1                 0          1       1  Yes  \n",
      "2         12               0                 1          1       1  Yes  \n",
      "3         14               0                 1          1       1   No  \n",
      "4         13               0                 0          1       0   No  \n"
     ]
    }
   ],
   "source": [
    "threshold = 8\n",
    "carseats_df['High'] = carseats_df['Sales'].apply(lambda x: 'No' if x <= threshold else 'Yes')\n",
    "print(carseats_df[:5])"
   ]
  },
  {
   "cell_type": "markdown",
   "id": "outside-tampa",
   "metadata": {},
   "source": [
    "* Fit Classification Tree\n",
    "\n",
    "We now use the tree function to fit a classification tree in order to predict\n",
    "High using all variables but Sales. The syntax of the treefunction is quite\n",
    "similar to that of the lm function"
   ]
  },
  {
   "cell_type": "code",
   "execution_count": 5,
   "id": "valued-strategy",
   "metadata": {},
   "outputs": [],
   "source": [
    "from sklearn.tree import DecisionTreeClassifier\n",
    "from sklearn.metrics import accuracy_score, confusion_matrix, precision_score, f1_score\n",
    "from sklearn.model_selection import train_test_split\n",
    "\n",
    "y = carseats_df['High']\n",
    "X = carseats_df.drop(['High', 'Sales', 'Unnamed: 0'], axis = 1)\n",
    "\n",
    "X_train, X_test, y_train, y_test = train_test_split(X, y, test_size = 0.3, random_state = 123)"
   ]
  },
  {
   "cell_type": "code",
   "execution_count": 6,
   "id": "received-strike",
   "metadata": {},
   "outputs": [
    {
     "name": "stdout",
     "output_type": "stream",
     "text": [
      "[[51 11]\n",
      " [20 38]]\n"
     ]
    }
   ],
   "source": [
    "'''\n",
    "Baseline DTs classification\n",
    "'''\n",
    "DTs_clf = DecisionTreeClassifier()\n",
    "DTs_clf.fit(X_train, y_train)\n",
    "\n",
    "y_hat = DTs_clf.predict(X_test)\n",
    "print(confusion_matrix(y_test, y_hat))"
   ]
  },
  {
   "cell_type": "code",
   "execution_count": 7,
   "id": "mobile-division",
   "metadata": {},
   "outputs": [
    {
     "data": {
      "text/plain": [
       "{'ccp_alphas': array([0.        , 0.00334821, 0.00334821, 0.00336134, 0.00338828,\n",
       "        0.00343407, 0.00351891, 0.0047619 , 0.0047619 , 0.00535714,\n",
       "        0.00566121, 0.00595238, 0.00595238, 0.00596591, 0.00619048,\n",
       "        0.00635938, 0.00857143, 0.00872342, 0.00916577, 0.00952381,\n",
       "        0.0095313 , 0.01042499, 0.01618382, 0.01653439, 0.01714286,\n",
       "        0.02310172, 0.02311504, 0.02323255, 0.03969133, 0.07501996]),\n",
       " 'impurities': array([0.        , 0.00669643, 0.01339286, 0.02011555, 0.03366866,\n",
       "        0.04053679, 0.04757461, 0.05233651, 0.05709842, 0.0678127 ,\n",
       "        0.07913513, 0.08508751, 0.09103989, 0.0970058 , 0.10938675,\n",
       "        0.11574613, 0.12431756, 0.13304098, 0.14220675, 0.15173056,\n",
       "        0.16126186, 0.21338681, 0.22957062, 0.24610501, 0.26324787,\n",
       "        0.30945132, 0.33256636, 0.35579891, 0.39549024, 0.4705102 ])}"
      ]
     },
     "execution_count": 7,
     "metadata": {},
     "output_type": "execute_result"
    }
   ],
   "source": [
    "path = DecisionTreeClassifier().cost_complexity_pruning_path(X_train, y_train)\n",
    "path"
   ]
  },
  {
   "cell_type": "code",
   "execution_count": 8,
   "id": "random-adaptation",
   "metadata": {},
   "outputs": [
    {
     "data": {
      "text/plain": [
       "array([0.        , 0.00334821, 0.00334821, 0.00336134, 0.00338828,\n",
       "       0.00343407, 0.00351891, 0.0047619 , 0.0047619 , 0.00535714,\n",
       "       0.00566121, 0.00595238, 0.00595238, 0.00596591, 0.00619048,\n",
       "       0.00635938, 0.00857143, 0.00872342, 0.00916577, 0.00952381,\n",
       "       0.0095313 , 0.01042499, 0.01618382, 0.01653439, 0.01714286,\n",
       "       0.02310172, 0.02311504, 0.02323255, 0.03969133, 0.07501996])"
      ]
     },
     "execution_count": 8,
     "metadata": {},
     "output_type": "execute_result"
    }
   ],
   "source": [
    "ccp_alphas = path.ccp_alphas\n",
    "ccp_alphas"
   ]
  },
  {
   "cell_type": "code",
   "execution_count": 9,
   "id": "experimental-partner",
   "metadata": {},
   "outputs": [],
   "source": [
    "from sklearn.model_selection import cross_val_score"
   ]
  },
  {
   "cell_type": "code",
   "execution_count": 10,
   "id": "annual-afternoon",
   "metadata": {},
   "outputs": [
    {
     "data": {
      "text/html": [
       "<div>\n",
       "<style scoped>\n",
       "    .dataframe tbody tr th:only-of-type {\n",
       "        vertical-align: middle;\n",
       "    }\n",
       "\n",
       "    .dataframe tbody tr th {\n",
       "        vertical-align: top;\n",
       "    }\n",
       "\n",
       "    .dataframe thead th {\n",
       "        text-align: right;\n",
       "    }\n",
       "</style>\n",
       "<table border=\"1\" class=\"dataframe\">\n",
       "  <thead>\n",
       "    <tr style=\"text-align: right;\">\n",
       "      <th></th>\n",
       "      <th>alpha</th>\n",
       "      <th>accuracy_cv</th>\n",
       "    </tr>\n",
       "  </thead>\n",
       "  <tbody>\n",
       "    <tr>\n",
       "      <th>0</th>\n",
       "      <td>0.000000</td>\n",
       "      <td>0.689286</td>\n",
       "    </tr>\n",
       "    <tr>\n",
       "      <th>1</th>\n",
       "      <td>0.003348</td>\n",
       "      <td>0.707143</td>\n",
       "    </tr>\n",
       "    <tr>\n",
       "      <th>2</th>\n",
       "      <td>0.003348</td>\n",
       "      <td>0.707143</td>\n",
       "    </tr>\n",
       "    <tr>\n",
       "      <th>3</th>\n",
       "      <td>0.003361</td>\n",
       "      <td>0.710714</td>\n",
       "    </tr>\n",
       "  </tbody>\n",
       "</table>\n",
       "</div>"
      ],
      "text/plain": [
       "      alpha  accuracy_cv\n",
       "0  0.000000     0.689286\n",
       "1  0.003348     0.707143\n",
       "2  0.003348     0.707143\n",
       "3  0.003361     0.710714"
      ]
     },
     "execution_count": 10,
     "metadata": {},
     "output_type": "execute_result"
    }
   ],
   "source": [
    "accuracy_cv = []\n",
    "for alpha in ccp_alphas:\n",
    "    accuracy = cross_val_score(estimator = DecisionTreeClassifier(ccp_alpha = alpha),\n",
    "                              X = X_train,\n",
    "                              y = y_train,\n",
    "                              cv = 10,\n",
    "                              scoring = 'accuracy')\n",
    "    accuracy_cv.append(np.mean(accuracy))\n",
    "    \n",
    "output = pd.DataFrame(\n",
    "    list(ccp_alphas),\n",
    "    columns = ['alpha']\n",
    ")\n",
    "output['accuracy_cv'] = accuracy_cv\n",
    "output[:4]"
   ]
  },
  {
   "cell_type": "code",
   "execution_count": 11,
   "id": "equal-support",
   "metadata": {},
   "outputs": [
    {
     "name": "stdout",
     "output_type": "stream",
     "text": [
      "Optimal Alpha: 0.01042498895813908\n"
     ]
    },
    {
     "data": {
      "image/png": "[encoded data removed]",
      "text/plain": [
       "<Figure size 432x288 with 1 Axes>"
      ]
     },
     "metadata": {
      "needs_background": "light"
     },
     "output_type": "display_data"
    }
   ],
   "source": [
    "sns.lineplot(x = 'alpha', y = 'accuracy_cv',  data = output,\n",
    "             color = 'b')\n",
    "print(f\"Optimal Alpha: {output.iloc[np.argmax(output['accuracy_cv']), 0]}\")\n",
    "plt.show()"
   ]
  },
  {
   "cell_type": "code",
   "execution_count": 12,
   "id": "multiple-turtle",
   "metadata": {},
   "outputs": [
    {
     "name": "stdout",
     "output_type": "stream",
     "text": [
      "[[53  9]\n",
      " [20 38]]\n"
     ]
    }
   ],
   "source": [
    "DTs_clf2 = DecisionTreeClassifier(ccp_alpha = output.iloc[np.argmax(output['accuracy_cv']), 0])\n",
    "DTs_clf2.fit(X_train, y_train)\n",
    "\n",
    "y_hat2 = DTs_clf2.predict(X_test)\n",
    "print(confusion_matrix(y_test, y_hat2))"
   ]
  }
 ],
 "metadata": {
  "kernelspec": {
   "display_name": "Python 3",
   "language": "python",
   "name": "python3"
  },
  "language_info": {
   "codemirror_mode": {
    "name": "ipython",
    "version": 3
   },
   "file_extension": ".py",
   "mimetype": "text/x-python",
   "name": "python",
   "nbconvert_exporter": "python",
   "pygments_lexer": "ipython3",
   "version": "3.9.1"
  }
 },
 "nbformat": 4,
 "nbformat_minor": 5
}
